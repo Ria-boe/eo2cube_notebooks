{
 "cells": [
  {
   "cell_type": "markdown",
   "metadata": {},
   "source": [
    "# <img align=\"right\" src=\"../additional_data/banner.png\" style=\"width:1100px;\">"
   ]
  },
  {
   "cell_type": "markdown",
   "metadata": {},
   "source": [
    "# Introduction to loading data\n",
    "\n",
    "* [**Sign up to the JupyterHub**](https://www.phenocube.org/) to run this notebook interactively from your browser\n",
    "* **Compatibility:** Notebook currently compatible with the Open Data Cube environments of the University of Wuerzburg\n",
    "* **Products used**: s2_l2a_bavaria\n",
    "* **Prerequisites**:  Users of this notebook should have a basic understanding of:\n",
    "    * How to run a [Jupyter notebook](01_jupyter_introduction.ipynb)\n",
    "    * The basic structure of the eo2cube [satellite datasets](02_eo2cube.ipynb)\n",
    "    * How to browse through the available [products and measurements](03_products_and_measurements.ipynb) of the eo2cube datacube "
   ]
  },
  {
   "cell_type": "markdown",
   "metadata": {},
   "source": [
    "## Background\n",
    "\n",
    "Loading data from the eo2cube requires a data query command that specifies what kind of data (what) and for which area of interest (AOI) (where) and time (when) the specified data should be loaded. Each loading query returns a multi-dimensional `xarray` object containing the contents of your query.\n",
    "For the work with the data in eo2cube environement, it is essential to understand the `xarray` data structures as they are fundamental to the structure of the stored and loaded data. Any kind of further geospatial analysis builds on this `xarray` structur.\n",
    "\n",
    "## Description\n",
    "\n",
    "This notebook demonstrates how to load data from the eo2cube datacube by using the `dc.load()` function. It also includes the construction of a query to define the data according to desired parameters. Topics covered include:\n",
    "\n",
    "* Loading data with the `dc.load()`function\n",
    "* Interpretation of the resulting `xarray.Dataset` object\n",
    "* Customising the `dc.load()`query\n",
    "* Tips and tricks to simplify the data loading process\n",
    "\n",
    "***"
   ]
  },
  {
   "cell_type": "markdown",
   "metadata": {},
   "source": [
    "## Load packages\n",
    "\n",
    "The `datacube` package is required to query the eo2cube datacube database and load the requested data. The `with_ui_cbk` function from `odc.ui` enables a progress bar when loading large amounts of data"
   ]
  },
  {
   "cell_type": "code",
   "execution_count": 1,
   "metadata": {},
   "outputs": [],
   "source": [
    "import datacube\n",
    "from odc.ui import with_ui_cbk"
   ]
  },
  {
   "cell_type": "markdown",
   "metadata": {},
   "source": [
    "## Connection to the datacube\n",
    "\n",
    "The usual first step is to connect the script with the datacube. As described in the script about [products and measurements](03_products_and_measurements.ipynb) an app name needs to be defined. In this case it is going to be *'04_loading_data_and_xarray'*. Also the standard configuration file needs to be defined."
   ]
  },
  {
   "cell_type": "code",
   "execution_count": 2,
   "metadata": {},
   "outputs": [],
   "source": [
    "dc = datacube.Datacube(app = '04_loading_data_and_xarray', config = '/home/datacube/.datacube.conf')"
   ]
  },
  {
   "cell_type": "markdown",
   "metadata": {},
   "source": [
    "## Loading data with the `dc.load()`function\n",
    "\n",
    "Loading data from the datacube uses the `dc.load()` function.\n",
    "\n",
    "The function requires the following minimum arguments:\n",
    "\n",
    "* product: The data product to load (to see all available eo2cube products, see the [Products and measurements notebook](03_products_and_measurements.ipynb)).\n",
    "* x: The spatial region in the x dimension. By default, the x and y arguments accept queries in a geographical co-ordinate system WGS84, identified by the EPSG code 4326.\n",
    "* y: The spatial region in the y dimension. The dimensions longitude/latitude and x/y can be used interchangeably. It is also possible to use the extent of an imported shapefile as x/y (see the [notebook for working with vectordata](XX_vectordata.ipynb)).\n",
    "* time: The temporal extent. The time dimension can be specified using a tuple of datetime objects or strings in the “YYYY”, “YYYY-MM” or “YYYY-MM-DD” format.\n",
    "\n",
    "This example loads all Sentinel-2 data from 2020 for an area around Würzburg. The used product is defined by its name (). The spatial extent is defined by lat/lon coordinates. The time intervall ist defined by \"2020-01-01\"\n",
    "\n",
    "\n",
    "*in progress ..*\n"
   ]
  },
  {
   "cell_type": "code",
   "execution_count": null,
   "metadata": {},
   "outputs": [],
   "source": []
  }
 ],
 "metadata": {
  "kernelspec": {
   "display_name": "Python 3",
   "language": "python",
   "name": "python3"
  },
  "language_info": {
   "codemirror_mode": {
    "name": "ipython",
    "version": 3
   },
   "file_extension": ".py",
   "mimetype": "text/x-python",
   "name": "python",
   "nbconvert_exporter": "python",
   "pygments_lexer": "ipython3",
   "version": "3.9.1"
  }
 },
 "nbformat": 4,
 "nbformat_minor": 4
}
